{
  "nbformat": 4,
  "nbformat_minor": 0,
  "metadata": {
    "colab": {
      "name": "2022BX584.ipynb",
      "provenance": [],
      "collapsed_sections": [
        "CVAP-yFyJwXV"
      ],
      "toc_visible": true,
      "include_colab_link": true
    },
    "kernelspec": {
      "name": "python3",
      "display_name": "Python 3"
    },
    "language_info": {
      "name": "python"
    }
  },
  "cells": [
    {
      "cell_type": "markdown",
      "metadata": {
        "id": "view-in-github",
        "colab_type": "text"
      },
      "source": [
        "<a href=\"https://colab.research.google.com/github/schnee25/2022PythoIntroAssignment/blob/main/2022BX584.ipynb\" target=\"_parent\"><img src=\"https://colab.research.google.com/assets/colab-badge.svg\" alt=\"Open In Colab\"/></a>"
      ]
    },
    {
      "cell_type": "markdown",
      "source": [
        "# 第2回授業課題\n"
      ],
      "metadata": {
        "id": "CVAP-yFyJwXV"
      }
    },
    {
      "cell_type": "markdown",
      "source": [
        "第2回授業　課題1B"
      ],
      "metadata": {
        "id": "grcEFiLMmc2j"
      }
    },
    {
      "cell_type": "code",
      "source": [
        "#Q1 14を5で割った余りを表示するコードを書いてください。\n",
        "\n",
        "print(14%5)"
      ],
      "metadata": {
        "id": "8bfIbbOgetCO",
        "colab": {
          "base_uri": "https://localhost:8080/"
        },
        "outputId": "7feab963-6bd8-4673-e14a-b64140157c36"
      },
      "execution_count": null,
      "outputs": [
        {
          "output_type": "stream",
          "name": "stdout",
          "text": [
            "4\n"
          ]
        }
      ]
    },
    {
      "cell_type": "code",
      "source": [
        "#Q2 半径が10.3の円の面積を表示するコードを書いてください。（円周率 3.14）\n",
        "from decimal import Decimal\n",
        "'''\n",
        "radius = 10.3\n",
        "area = radius**2*3.14\n",
        "print(area)\n",
        "丸め誤差が生じる？\n",
        "'''\n",
        "\n",
        "radius = Decimal(\"10.3\")\n",
        "pi = Decimal(\"3.14\")\n",
        "area = radius**2*pi\n",
        "print(area)"
      ],
      "metadata": {
        "colab": {
          "base_uri": "https://localhost:8080/"
        },
        "id": "sUtJ_dnpfnpX",
        "outputId": "273f6cd1-bdae-41b1-f376-ebee7669a725"
      },
      "execution_count": null,
      "outputs": [
        {
          "output_type": "stream",
          "name": "stdout",
          "text": [
            "333.1226\n"
          ]
        }
      ]
    },
    {
      "cell_type": "markdown",
      "source": [
        "# 第3回授業課題\n",
        "課題2,3\n"
      ],
      "metadata": {
        "id": "KkqyQ2wpKC2p"
      }
    },
    {
      "cell_type": "markdown",
      "source": [
        "課題２\n",
        "以下のことを実現するコードをPythonで書こう\n",
        "\n",
        "> ユーザに6つの正の整数を入力してもらう。\n",
        "> そのうち、一番大きな値だけを表示する\n",
        "\n",
        "\n",
        "\n",
        "\n",
        "\n"
      ],
      "metadata": {
        "id": "maPbM1ZbjP9c"
      }
    },
    {
      "cell_type": "code",
      "source": [
        "#課題２\n",
        "num = None\n",
        "for i in range(6):\n",
        "  x = int(input())\n",
        "  if num == None:\n",
        "    num = x\n",
        "    continue\n",
        "  if num < x:\n",
        "    num = x\n",
        "print('最大値:', num)\n"
      ],
      "metadata": {
        "id": "Mt_2cXV4jlWo",
        "colab": {
          "base_uri": "https://localhost:8080/"
        },
        "outputId": "0fdb5c95-31a8-450f-fc9f-4873600275d2"
      },
      "execution_count": null,
      "outputs": [
        {
          "output_type": "stream",
          "name": "stdout",
          "text": [
            "1\n",
            "3\n",
            "6\n",
            "1\n",
            "3\n",
            "6\n",
            "最大値: 6\n"
          ]
        }
      ]
    },
    {
      "cell_type": "code",
      "source": [
        "#課題２ ↑エラーが出たので\n",
        "array = [int(input()) for _ in range(6)]\n",
        "\n",
        "max = array[0]\n",
        " \n",
        "for i in range(1, len(array)):\n",
        "    if array[i] > max:\n",
        "        max = array[i]\n",
        " \n",
        "print('最大値:',max)"
      ],
      "metadata": {
        "colab": {
          "base_uri": "https://localhost:8080/"
        },
        "id": "OnTPGGW85dok",
        "outputId": "c87fb560-6d03-4e5a-dff7-6c13ea8a8221"
      },
      "execution_count": null,
      "outputs": [
        {
          "output_type": "stream",
          "name": "stdout",
          "text": [
            "1\n",
            "2\n",
            "3\n",
            "89\n",
            "3\n",
            "2\n",
            "89\n"
          ]
        }
      ]
    },
    {
      "cell_type": "code",
      "source": [
        "#課題２　授業範囲で書いてみたかった\n",
        "array = [int(input()) for _ in range(6)]\n",
        "\n",
        "max = array[0]\n",
        "n = 1\n",
        "while n < 5:\n",
        "  if array[n] > max:\n",
        "    max = array[n]\n",
        "    n = n + 1\n",
        "    \n",
        "  else:\n",
        "    n = n + 1\n",
        "print('最大値:',max)"
      ],
      "metadata": {
        "colab": {
          "base_uri": "https://localhost:8080/"
        },
        "id": "UN5WowPH8TZL",
        "outputId": "34752629-31fc-4c57-b9db-8943cab42ae2"
      },
      "execution_count": null,
      "outputs": [
        {
          "output_type": "stream",
          "name": "stdout",
          "text": [
            "1\n",
            "51\n",
            "3\n",
            "6\n",
            "2\n",
            "7\n",
            "51\n"
          ]
        }
      ]
    },
    {
      "cell_type": "markdown",
      "source": [
        "課題3\n",
        "\n",
        "\n",
        "> まず、与えられた数が偶数であればTrueを、奇数であればFalseを返す関数is_evenを定義せよ。\n",
        "\n",
        "> そして、この関数is_evenを使って、1から1000までの範囲にある偶数の和を求めよ。\n"
      ],
      "metadata": {
        "id": "G458FreHE-lr"
      }
    },
    {
      "cell_type": "code",
      "source": [
        "#課題3前段\n",
        "def is_even(num):\n",
        "    if num % 2 == 0:\n",
        "        return True\n",
        "    else:\n",
        "        return False\n",
        "\n",
        "n = input('Enter Number')\n",
        "num = int(n)\n",
        "\n",
        "print(is_even(num))\n"
      ],
      "metadata": {
        "colab": {
          "base_uri": "https://localhost:8080/"
        },
        "id": "OzuN1ZqKE5om",
        "outputId": "d3036c8d-e033-4f49-c791-9ce8ee35da40"
      },
      "execution_count": null,
      "outputs": [
        {
          "output_type": "stream",
          "name": "stdout",
          "text": [
            "Enter Number1\n",
            "False\n"
          ]
        }
      ]
    },
    {
      "cell_type": "code",
      "source": [
        "#課題3後段\n",
        "def is_even(num):\n",
        "    if num % 2 == 0:\n",
        "        return True\n",
        "    else:\n",
        "        return False\n",
        "\n",
        "sum = 0\n",
        "num = 1\n",
        "while num <= 1000:\n",
        "  if is_even(num) == True:\n",
        "    sum = sum  + num\n",
        "    num = num+1\n",
        "  else:\n",
        "    num = num+1\n",
        "    \n",
        "print (sum)"
      ],
      "metadata": {
        "colab": {
          "base_uri": "https://localhost:8080/"
        },
        "id": "02dj09k1GVSi",
        "outputId": "a3e86282-d54c-465b-80f7-3619203afaf1"
      },
      "execution_count": null,
      "outputs": [
        {
          "output_type": "stream",
          "name": "stdout",
          "text": [
            "250500\n"
          ]
        }
      ]
    }
  ]
}